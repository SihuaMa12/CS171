{
 "cells": [
  {
   "cell_type": "code",
   "execution_count": 11,
   "metadata": {},
   "outputs": [],
   "source": [
    "import socket\n",
    "import sys\n",
    "import time\n",
    "import threading\n",
    "import concurrent.futures\n",
    "import more_pb2 as more\n",
    "import struct \n",
    "from struct import pack, unpack"
   ]
  },
  {
   "cell_type": "code",
   "execution_count": 12,
   "metadata": {},
   "outputs": [
    {
     "data": {
      "text/plain": [
       "b'\\x00\\x02'"
      ]
     },
     "execution_count": 12,
     "metadata": {},
     "output_type": "execute_result"
    }
   ],
   "source": [
    "a = pack(\">H\",2)\n",
    "a"
   ]
  },
  {
   "cell_type": "code",
   "execution_count": null,
   "metadata": {},
   "outputs": [],
   "source": []
  },
  {
   "cell_type": "code",
   "execution_count": 13,
   "metadata": {},
   "outputs": [],
   "source": [
    "def SerE(sock, mes):\n",
    "    me = more.SerError()\n",
    "    me.type = 3\n",
    "    me.error = mes\n",
    "    then = me.SerializeToString()\n",
    "    first = len(then)\n",
    "    first = pack(\">H\", first)\n",
    "    sock.sendall(first+then)"
   ]
  },
  {
   "cell_type": "code",
   "execution_count": 14,
   "metadata": {},
   "outputs": [],
   "source": [
    "def endSock(sock):\n",
    "    sock.close()\n",
    "    sys.exit()\n",
    "    \n",
    "    return False"
   ]
  },
  {
   "cell_type": "code",
   "execution_count": 15,
   "metadata": {},
   "outputs": [],
   "source": [
    "def delaySome():\n",
    "    time.sleep(random.uniform(1,5))"
   ]
  },
  {
   "cell_type": "code",
   "execution_count": null,
   "metadata": {},
   "outputs": [],
   "source": [
    "def newSend(ne, mes):\n",
    "    delaySome()\n",
    "    ne[1].acquire()\n",
    "    ne[0].sendall(mes)\n",
    "    ne[1].release()\n",
    "    \n",
    "    return"
   ]
  },
  {
   "cell_type": "code",
   "execution_count": 16,
   "metadata": {},
   "outputs": [],
   "source": [
    "def safeRec(sock, n, serNo):\n",
    "    lef = n\n",
    "    res = []\n",
    "    closed = False\n",
    "    while lef > 0:\n",
    "        then = sock.recv(lef)\n",
    "        if then == b'':\n",
    "            closed = True\n",
    "            break\n",
    "            \n",
    "            \n",
    "        lef -= len(then)\n",
    "        res.append(then)\n",
    "        \n",
    "    if not closed:\n",
    "        return b''.join(res)\n",
    "    \n",
    "    \n",
    "    del sers[serNo]\n",
    "    sock.close()\n",
    "    sys.exit()\n",
    "    \n",
    "    return False"
   ]
  },
  {
   "cell_type": "code",
   "execution_count": 17,
   "metadata": {},
   "outputs": [],
   "source": [
    "def newMes(sock, address):\n",
    "    # Expecting initial message from processes\n",
    "    ini = more.Initi()\n",
    "    le = safeRec(sock, 2)\n",
    "    le = unpack(\">H\", le)[0]\n",
    "    res = safeRec(sock, le)\n",
    "    ini.ParseFromString(res)\n",
    "    if ini.type == 2:\n",
    "        sers[ini.ori] = [sock, threading.Lock()]\n",
    "    else:\n",
    "        SerE(sock, \"Expected initial message, not receiving right\")\n",
    "        endSock(sock)\n",
    "    \n",
    "    # Continue to event sending phase\n",
    "    while True:\n",
    "        le = safeRec(sock, 2, ini.ori)\n",
    "        le = unpack(\">H\", le)[0]\n",
    "        res = safeRec(sock, le, ini.ori)\n",
    "        newone = more.Event()\n",
    "        newone.ParseFromString(res)\n",
    "        if res.type != 1:\n",
    "            print(\"Process sending wrong messages, ending connection\")\n",
    "            del sers[ini.ori]\n",
    "            endSock(sock)\n",
    "        \n",
    "        des = newone.dest\n",
    "        \n",
    "        if des not in sers:\n",
    "            SerE(sock, \"Server not opened\")\n",
    "            continue\n",
    "        \n",
    "        ne = sers[ini.ori]\n",
    "            \n",
    "        first = pack(\">H\", len(res))\n",
    "#         with concurrent.futures.ThreadPoolExecutor() as executor:\n",
    "#             executor.sumbit()\n",
    "        threading.Thread(target=newSend, args = [ne, first+res]).start()\n",
    "        \n",
    "    return False"
   ]
  },
  {
   "cell_type": "code",
   "execution_count": null,
   "metadata": {},
   "outputs": [],
   "source": [
    "server_address = ('localhost', 10000)\n",
    "print('starting up on %s port %s' % server_address)\n",
    "sock.bind(server_address)\n",
    "\n",
    "sock.listen()\n",
    "\n",
    "sers = {}\n",
    "serLock = {}\n",
    "\n",
    "while True:\n",
    "    socks, address = sock.accept()\n",
    "    t = threading.Thread(target=newMes, args = [socks, address])\n",
    "    \n",
    "sock.close()"
   ]
  }
 ],
 "metadata": {
  "kernelspec": {
   "display_name": "Python 3",
   "language": "python",
   "name": "python3"
  },
  "language_info": {
   "codemirror_mode": {
    "name": "ipython",
    "version": 3
   },
   "file_extension": ".py",
   "mimetype": "text/x-python",
   "name": "python",
   "nbconvert_exporter": "python",
   "pygments_lexer": "ipython3",
   "version": "3.7.4"
  }
 },
 "nbformat": 4,
 "nbformat_minor": 2
}
