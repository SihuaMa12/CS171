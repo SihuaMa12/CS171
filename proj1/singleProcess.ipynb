{
 "cells": [
  {
   "cell_type": "code",
   "execution_count": 1,
   "metadata": {},
   "outputs": [],
   "source": [
    "import socket\n",
    "import sys\n",
    "import time\n",
    "import threading\n",
    "import concurrent.futures\n",
    "import more_pb2 as more\n",
    "import struct \n",
    "from struct import pack, unpack"
   ]
  },
  {
   "cell_type": "code",
   "execution_count": null,
   "metadata": {},
   "outputs": [],
   "source": [
    "\n",
    "    \n",
    "quela = []\n",
    "firstPri = 0\n",
    "addLock = threading.Lock()"
   ]
  },
  {
   "cell_type": "code",
   "execution_count": null,
   "metadata": {},
   "outputs": [],
   "source": [
    "def byteHelp(mes):\n",
    "    fir = mes.SerializeToString()\n",
    "    print(fir)\n",
    "    a = pack(\">H\", len(fir))\n",
    "    return a+fir"
   ]
  },
  {
   "cell_type": "code",
   "execution_count": null,
   "metadata": {},
   "outputs": [],
   "source": [
    "def safeRec(sock, n):\n",
    "    lef = n\n",
    "    res = []\n",
    "    closed = False\n",
    "    while lef > 0:\n",
    "        then = sock.recv(lef)\n",
    "        if then == b'':\n",
    "            closed = True\n",
    "            break\n",
    "            \n",
    "            \n",
    "        lef -= len(then)\n",
    "        res.append(then)\n",
    "        \n",
    "    if not closed:\n",
    "        return b''.join(res)\n",
    "    \n",
    "    print(\"netProcess closed connection\")\n",
    "    \n",
    "    sys.exit()\n",
    "    \n",
    "    return False"
   ]
  },
  {
   "cell_type": "code",
   "execution_count": null,
   "metadata": {},
   "outputs": [],
   "source": [
    "def addToQ(ev, clock):\n",
    "    global quela\n",
    "    global firstPri\n",
    "    global addLock\n",
    "    addLock.acquire()\n",
    "    firstPri = max(clock, firstPri) + 1\n",
    "    quela.append((firstPri, ev))\n",
    "    addLock.release()\n",
    "    "
   ]
  },
  {
   "cell_type": "code",
   "execution_count": null,
   "metadata": {},
   "outputs": [],
   "source": [
    "def comTask(sock):\n",
    "    global quela\n",
    "    global firstPri\n",
    "    global addLock\n",
    "    \n",
    "    while True:\n",
    "        newone = more.Event()\n",
    "        le = safeRec(sock, 2)\n",
    "        le = unpack(\">H\", le)[0]\n",
    "        mes = safeRec(sock, le)\n",
    "        newone.ParseFromString(mes)\n",
    "        if newone.type != 1:\n",
    "            continue\n",
    "            \n",
    "        print(\"Received event \"+newone.mess + \" from server \" + str(newone.ori))\n",
    "        addToQ(newone.me, newone.clock)"
   ]
  },
  {
   "cell_type": "code",
   "execution_count": null,
   "metadata": {},
   "outputs": [],
   "source": [
    "def sendEvent(sock, mes, des):\n",
    "    global x\n",
    "    global firstPri\n",
    "    me = more.Event()\n",
    "    me.type = 1\n",
    "    me.ori = x\n",
    "    me.dest = des\n",
    "    me.clock = firstPri\n",
    "    me.mess = mes\n",
    "    sock.sendall(byteHelp(me))\n",
    "    addToQ(\"Send\", 0)"
   ]
  },
  {
   "cell_type": "code",
   "execution_count": null,
   "metadata": {},
   "outputs": [],
   "source": [
    "def printClocks():\n",
    "    global quela\n",
    "    global x\n",
    "    print(\"Clocks:\", end = \" \")\n",
    "    print(i[1] for i in quela)"
   ]
  },
  {
   "cell_type": "code",
   "execution_count": null,
   "metadata": {},
   "outputs": [],
   "source": [
    "def askForEvent():\n",
    "    print(\"Please enter an event\")\n",
    "    x = input()\n",
    "    addToQ(x, 0)\n",
    "        "
   ]
  },
  {
   "cell_type": "code",
   "execution_count": null,
   "metadata": {},
   "outputs": [],
   "source": [
    "def mainPrompt(sock):\n",
    "    while True:\n",
    "        print(\"Please enter the type of event, 1 for local event and 2 for send event. Enter 3 to print clock values\")\n",
    "        x1 = input()\n",
    "        try:\n",
    "            x1 = int(x1)\n",
    "        except ValueError:\n",
    "            print(\"Wrong type, please enter again!\")\n",
    "            continue\n",
    "            \n",
    "        if x1 == 1:\n",
    "            askForEvent()\n",
    "        elif x1 == 2:\n",
    "            print(\"Please specify the server number to send the message to\")\n",
    "            sn = input()\n",
    "            try:\n",
    "                sn = int(sn)\n",
    "            except ValueError:\n",
    "                print(\"Invalid ID!\")\n",
    "                continue\n",
    "                \n",
    "            if sn not in [1,2,3]:\n",
    "                print(\"Invalid ID! Please choose between 1, 2 and 3\")\n",
    "                continue\n",
    "                \n",
    "            print(\"Please specify the message to send\")\n",
    "            y = input()\n",
    "            sendEvent(sock, y, sn)\n",
    "            print(\"Event sent successfully!\")\n",
    "        elif x1 == 3:\n",
    "            printClocks()\n",
    "        else:\n",
    "            print(\"Invalid event number!\")\n",
    "            continue\n",
    "            "
   ]
  },
  {
   "cell_type": "code",
   "execution_count": 7,
   "metadata": {},
   "outputs": [
    {
     "name": "stdout",
     "output_type": "stream",
     "text": [
      "b'\\x08\\x02\\x10\\x02'\n",
      "b'\\x00\\x04\\x08\\x02\\x10\\x02'\n"
     ]
    }
   ],
   "source": [
    "\n",
    "len = len(sys.argv)\n",
    "if len != 2:\n",
    "    print(\"Usage: python3 singleProcess.py [process ID]\")\n",
    "    sys.exit()\n",
    "    \n",
    "try:\n",
    "    x = int(sys.argv[1])\n",
    "except ValueError:\n",
    "    print(\"Not an integer, invalid usage\")\n",
    "    sys.exit()\n",
    "\n",
    "net_address = ('localhost', 10000)\n",
    "sock.connect(net_address)\n",
    "\n",
    "ini = more.Initi()\n",
    "ini.type = 2\n",
    "ini.ori = x\n",
    "\n",
    "sock.sendall(byteHelp(ini))\n",
    "\n",
    "# Proceed to event phase\n",
    "mainPrompt()\n",
    "\n"
   ]
  },
  {
   "cell_type": "code",
   "execution_count": 9,
   "metadata": {},
   "outputs": [
    {
     "data": {
      "text/plain": [
       "b'\\x00\\x02'"
      ]
     },
     "execution_count": 9,
     "metadata": {},
     "output_type": "execute_result"
    }
   ],
   "source": [
    "a = pack(\">H\",2)\n",
    "a"
   ]
  },
  {
   "cell_type": "code",
   "execution_count": null,
   "metadata": {},
   "outputs": [],
   "source": []
  }
 ],
 "metadata": {
  "kernelspec": {
   "display_name": "Python 3",
   "language": "python",
   "name": "python3"
  },
  "language_info": {
   "codemirror_mode": {
    "name": "ipython",
    "version": 3
   },
   "file_extension": ".py",
   "mimetype": "text/x-python",
   "name": "python",
   "nbconvert_exporter": "python",
   "pygments_lexer": "ipython3",
   "version": "3.7.4"
  }
 },
 "nbformat": 4,
 "nbformat_minor": 2
}
