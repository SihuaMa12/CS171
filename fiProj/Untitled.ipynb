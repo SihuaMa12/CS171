{
 "cells": [
  {
   "cell_type": "code",
   "execution_count": 3,
   "metadata": {},
   "outputs": [],
   "source": [
    "import socket\n",
    "import hashlib\n",
    "import random\n",
    "import string\n",
    "import paxos_pb2\n",
    "import threading\n",
    "import pickle\n",
    "import socket\n",
    "import time\n",
    "import sys\n",
    "from os import path\n",
    "from struct import pack, unpack"
   ]
  },
  {
   "cell_type": "code",
   "execution_count": 17,
   "metadata": {},
   "outputs": [],
   "source": [
    "class State:\n",
    "    def __init__(self):\n",
    "        self.balance = 100\n",
    "        self.blockChain = []\n",
    "        self.queue = []\n",
    "        self.clock = 0"
   ]
  },
  {
   "cell_type": "code",
   "execution_count": 36,
   "metadata": {},
   "outputs": [],
   "source": [
    "# tested = State()\n",
    "# tested.balance = 1000\n",
    "# newla = paxos_pb2.Accept()\n",
    "# newla.type = 2\n",
    "# tested.blockChain.append(newla)"
   ]
  },
  {
   "cell_type": "code",
   "execution_count": 37,
   "metadata": {},
   "outputs": [],
   "source": [
    "# with open(\"stes.txt\", \"wb\") as f:\n",
    "#     pickle.dump(tested, f)"
   ]
  },
  {
   "cell_type": "code",
   "execution_count": 38,
   "metadata": {},
   "outputs": [],
   "source": [
    "# tested.balance = 100"
   ]
  },
  {
   "cell_type": "code",
   "execution_count": 39,
   "metadata": {},
   "outputs": [],
   "source": [
    "# with open(\"stes.txt\", \"rb\") as f:\n",
    "#     tested = pickle.load(f)"
   ]
  },
  {
   "cell_type": "code",
   "execution_count": 41,
   "metadata": {},
   "outputs": [
    {
     "data": {
      "text/plain": [
       "b'\\x08\\x02'"
      ]
     },
     "execution_count": 41,
     "metadata": {},
     "output_type": "execute_result"
    }
   ],
   "source": [
    "# tested.balance\n",
    "# tested.blockChain[0].SerializePartialToString()"
   ]
  },
  {
   "cell_type": "code",
   "execution_count": null,
   "metadata": {},
   "outputs": [],
   "source": [
    "states = State()"
   ]
  },
  {
   "cell_type": "code",
   "execution_count": 2,
   "metadata": {},
   "outputs": [],
   "source": [
    "# print(\"This is stub\")\n",
    "procNo = 0\n",
    "# tes = hashlib.sha256(\"nihao\".encode(\"utf-8\")).hexdigest()\n",
    "# print(findNonce(tes))\n",
    "ports = {1: 10001, 2:10002, 3:10003, 4:10004, 5:10005}\n",
    "socks = {}\n",
    "sockLocks = {}\n",
    "promiseCount = 1\n",
    "PCLock = threading.Lock()\n",
    "countLock = threading.Lock()\n",
    "failed = False\n",
    "enough = threading.Condition()\n",
    "\n",
    "for i in range(5):\n",
    "    socks[i + 1] = -1\n",
    "    sockLocks[i + 1] = threading.Lock()\n",
    "    \n",
    "linkSuc = [False] * 5\n",
    "activeFailed = [False] * 5"
   ]
  },
  {
   "cell_type": "code",
   "execution_count": 28,
   "metadata": {},
   "outputs": [],
   "source": [
    "if path.isfile(\"State_\" + str(procNo)):\n",
    "    with open(\"State_\" + str(procNo)) as f:\n",
    "        states = pickle.load(f)"
   ]
  },
  {
   "cell_type": "code",
   "execution_count": null,
   "metadata": {},
   "outputs": [],
   "source": [
    "def acceptAndSet(sock):\n",
    "    "
   ]
  },
  {
   "cell_type": "code",
   "execution_count": null,
   "metadata": {},
   "outputs": [],
   "source": [
    "def failLink():\n",
    "    global linkSuc, procNo\n",
    "    print(\"Please enter the pid of the link to be failed\")\n",
    "    x = getInt()\n",
    "    if x not in [1,2,3,4,5] or x == procNo:\n",
    "        print(\"Invalid pid\")\n",
    "        return\n",
    "    \n",
    "    linkSuc[x - 1] = False"
   ]
  },
  {
   "cell_type": "code",
   "execution_count": null,
   "metadata": {},
   "outputs": [],
   "source": [
    "def fixLink():\n",
    "    global linkSuc\n",
    "    print(\"Please enter the pid of the link to be fixed\")\n",
    "    x = getInt()\n",
    "    if x not in [1,2,3,4,5]:\n",
    "        print(\"Invalid pid\")\n",
    "        return\n",
    "    \n",
    "    linkSuc[x-1] = True"
   ]
  },
  {
   "cell_type": "code",
   "execution_count": 11,
   "metadata": {},
   "outputs": [],
   "source": [
    "def getInt():\n",
    "    while True:\n",
    "        x = input()\n",
    "        try:\n",
    "            x = int(x)\n",
    "        except ValueError:\n",
    "            print(\"Not an integer\")\n",
    "            continue\n",
    "        \n",
    "        return x"
   ]
  },
  {
   "cell_type": "code",
   "execution_count": 8,
   "metadata": {},
   "outputs": [],
   "source": [
    "def helpSend(sock, ite):\n",
    "    it = ite.SerializeToString()\n",
    "    le = len(it)\n",
    "    le = pack(\">H\", le)\n",
    "    sock.send(le + it)"
   ]
  },
  {
   "cell_type": "code",
   "execution_count": null,
   "metadata": {},
   "outputs": [],
   "source": [
    "def failProcess():\n",
    "    global procNo, states\n",
    "    with open(\"State_\" + str(procNo), \"wb\") as f:\n",
    "        pickle.dump(states, f)\n",
    "        \n",
    "    print(\"Failing\")\n",
    "    sys.exit()"
   ]
  },
  {
   "cell_type": "code",
   "execution_count": null,
   "metadata": {},
   "outputs": [],
   "source": [
    "def printChain():\n",
    "    global states\n",
    "    print(states.blockChain)"
   ]
  },
  {
   "cell_type": "code",
   "execution_count": null,
   "metadata": {},
   "outputs": [],
   "source": [
    "def printBalance():\n",
    "    global states\n",
    "    print(states.balance)"
   ]
  },
  {
   "cell_type": "code",
   "execution_count": null,
   "metadata": {},
   "outputs": [],
   "source": [
    "def printQueue():\n",
    "    global states\n",
    "    print(states.queue)"
   ]
  },
  {
   "cell_type": "code",
   "execution_count": null,
   "metadata": {},
   "outputs": [],
   "source": [
    "def comOther()"
   ]
  },
  {
   "cell_type": "code",
   "execution_count": null,
   "metadata": {},
   "outputs": [],
   "source": [
    "def conAndListen(sock, port):\n",
    "    sock.connect((\"localhost\", port))\n",
    "    server_address = (\"localhost\", ports[procNo])"
   ]
  },
  {
   "cell_type": "code",
   "execution_count": 6,
   "metadata": {
    "scrolled": true
   },
   "outputs": [
    {
     "ename": "SyntaxError",
     "evalue": "invalid syntax (<ipython-input-6-15029032fdb1>, line 2)",
     "output_type": "error",
     "traceback": [
      "\u001b[0;36m  File \u001b[0;32m\"<ipython-input-6-15029032fdb1>\"\u001b[0;36m, line \u001b[0;32m2\u001b[0m\n\u001b[0;31m    sock  return ''.join(random.choice(string.ascii_uppercase + string.digits) for _ in range(16))\u001b[0m\n\u001b[0m               ^\u001b[0m\n\u001b[0;31mSyntaxError\u001b[0m\u001b[0;31m:\u001b[0m invalid syntax\n"
     ]
    }
   ],
   "source": [
    "def randStr():\n",
    "    return ''.join(random.choice(string.ascii_uppercase + string.digits) for _ in range(16))"
   ]
  },
  {
   "cell_type": "code",
   "execution_count": 3,
   "metadata": {},
   "outputs": [],
   "source": [
    "def findNonce(inp):\n",
    "    while True:\n",
    "        st = randStr()\n",
    "        te = inp + st\n",
    "        te = te.encode(\"utf-8\")\n",
    "        ans = hashlib.sha256(te).hexdigest()\n",
    "        if ans[-1] in ['0', '1', '2', '3', '4']:\n",
    "            return st"
   ]
  },
  {
   "cell_type": "code",
   "execution_count": null,
   "metadata": {},
   "outputs": [],
   "source": [
    "def incrementCount():\n",
    "    countLock.acquire()\n",
    "    count += 1\n",
    "    countLock.release()"
   ]
  },
  {
   "cell_type": "code",
   "execution_count": null,
   "metadata": {},
   "outputs": [],
   "source": [
    "def timedRec(sock, n, ti):\n",
    "    mes = []\n",
    "    count = n\n",
    "    now = time.time()\n",
    "    \n",
    "    while count > 0:\n",
    "        a = sock.recv(count)\n",
    "        mes.append(mes)\n",
    "        le = len(a)\n",
    "        count -= le\n",
    "        \n",
    "        if time.time() - now > ti:\n",
    "            return False\n",
    "        \n",
    "    return b''.join(mes)"
   ]
  },
  {
   "cell_type": "code",
   "execution_count": null,
   "metadata": {},
   "outputs": [],
   "source": [
    "def safeRec(sock, n):\n",
    "    mes = []\n",
    "    count = n\n",
    "    while count > 0:\n",
    "        a = sock.recv(count)\n",
    "        mes.append(mes)\n",
    "        le = len(a)\n",
    "        count -= le\n",
    "        \n",
    "    return b''.join(mes)"
   ]
  },
  {
   "cell_type": "code",
   "execution_count": null,
   "metadata": {},
   "outputs": [],
   "source": [
    "def sendPrepare(sock, sno):\n",
    "    global ports, procNo, states\n",
    "    pMes = paxos_pb2.Prepare()\n",
    "    pMes.type = 1\n",
    "    pMes.ballot.depth = len(states.blockChain)\n",
    "    pMes.ballot.pid = procNo\n",
    "    \n",
    "    time.sleep(5)\n",
    "    \n",
    "    helpSend(sock, pMes)"
   ]
  },
  {
   "cell_type": "code",
   "execution_count": null,
   "metadata": {},
   "outputs": [],
   "source": [
    "def recvPromise(sock):\n",
    "    global promiseCount\n",
    "    le = timedRec(+)"
   ]
  },
  {
   "cell_type": "code",
   "execution_count": null,
   "metadata": {},
   "outputs": [],
   "source": [
    "def askForPromise(i):\n",
    "    global ports, linkSuc, socks\n",
    "    if linkSuc[i] == False:\n",
    "        sock = socket.socket(socket.AF_INET, socket.SOCK_STREAM)\n",
    "        server_address = (\"localhost\", ports[i])\n",
    "        sock.setsockopt(socket.SOL_SOCKET, socket.SO_REUSEADDR, 1)\n",
    "        sock.bind(server_address)\n",
    "        try:\n",
    "            sock.connect(server_address)\n",
    "        except socket.error, msg:\n",
    "            print(\"Connection failed \" + msg)\n",
    "            return\n",
    "        \n",
    "        socks[i] = sock\n",
    "        linkSuc[i-1] = True\n",
    "        \n",
    "    \n",
    "    threading.Thread(target = sendPrepare, args = (socks[i], i, ))\n",
    "    threading.ThreadrecvPromise(socks[i])"
   ]
  },
  {
   "cell_type": "code",
   "execution_count": null,
   "metadata": {},
   "outputs": [],
   "source": [
    "def ElectAsLeader():\n",
    "    global procNo, enough, count, activeFailed\n",
    "    for i in [1,2,3,4,5]:\n",
    "        if i != procNo and activeFailed[i] == False:\n",
    "            threading.Thread(target = askForPromise, args = (i,))\n",
    "        \n",
    "    enough.acquire()\n",
    "    enough.wait()\n",
    "    enough.release()\n",
    "    \n",
    "    if count < 3:\n",
    "        count = 1\n",
    "        print(\"Getting promise failed, not enough servers\")\n",
    "        return False\n",
    "    \n",
    "    count = 1\n",
    "    return True\n",
    "    \n",
    "        "
   ]
  },
  {
   "cell_type": "code",
   "execution_count": null,
   "metadata": {},
   "outputs": [],
   "source": [
    "def transPrepare():\n",
    "    global procNo\n",
    "    "
   ]
  },
  {
   "cell_type": "code",
   "execution_count": null,
   "metadata": {},
   "outputs": [],
   "source": [
    "def moneyTransfer():\n",
    "    global linkSuc, procNo\n",
    "    print(\"Please specify the destination pid:\")\n",
    "    x = getInt()\n",
    "    if x not in [1,2,3,4,5] or x == procNo:\n",
    "        print(\"Not a valid pid\")\n",
    "        return False\n",
    "    \n",
    "    print(\"Please specify the amount to transfer:\")\n",
    "    y = getInt()\n",
    "    if y < 0:\n",
    "        print(\"Amount cannot be negative\")\n",
    "        return False\n",
    "    elif y > balance:\n",
    "        print(\"Balance not enough\")\n",
    "        return False\n",
    "    \n",
    "    res = ElectAsLeader()\n",
    "    if res == True:\n",
    "        res = transPrepare()\n",
    "        if res == True:\n",
    "            sendDecide()\n",
    "        else:\n",
    "            print(\"Accepting phase failed\")\n",
    "            return False\n",
    "    else:\n",
    "        print(\"Failed to become leader\")\n",
    "        return False\n",
    "    \n",
    "    return True\n",
    "    "
   ]
  },
  {
   "cell_type": "code",
   "execution_count": 5,
   "metadata": {},
   "outputs": [],
   "source": []
  },
  {
   "cell_type": "code",
   "execution_count": 4,
   "metadata": {},
   "outputs": [
    {
     "data": {
      "text/plain": [
       "['Accept',\n",
       " 'Accepted',\n",
       " 'BallotNum',\n",
       " 'Block',\n",
       " 'DESCRIPTOR',\n",
       " 'Decide',\n",
       " 'Prepare',\n",
       " 'Promise',\n",
       " 'Transaction',\n",
       " '_ACCEPT',\n",
       " '_ACCEPTED',\n",
       " '_BALLOTNUM',\n",
       " '_BLOCK',\n",
       " '_DECIDE',\n",
       " '_PREPARE',\n",
       " '_PROMISE',\n",
       " '_TRANSACTION',\n",
       " '__builtins__',\n",
       " '__cached__',\n",
       " '__doc__',\n",
       " '__file__',\n",
       " '__loader__',\n",
       " '__name__',\n",
       " '__package__',\n",
       " '__spec__',\n",
       " '_b',\n",
       " '_descriptor',\n",
       " '_message',\n",
       " '_reflection',\n",
       " '_sym_db',\n",
       " '_symbol_database',\n",
       " 'sys']"
      ]
     },
     "execution_count": 4,
     "metadata": {},
     "output_type": "execute_result"
    }
   ],
   "source": [
    "dir(paxos_pb2)"
   ]
  },
  {
   "cell_type": "code",
   "execution_count": 10,
   "metadata": {},
   "outputs": [
    {
     "ename": "KeyError",
     "evalue": "0",
     "output_type": "error",
     "traceback": [
      "\u001b[0;31m---------------------------------------------------------------------------\u001b[0m",
      "\u001b[0;31mKeyError\u001b[0m                                  Traceback (most recent call last)",
      "\u001b[0;32m<ipython-input-10-942ebb76190a>\u001b[0m in \u001b[0;36m<module>\u001b[0;34m\u001b[0m\n\u001b[1;32m      1\u001b[0m \u001b[0msock\u001b[0m \u001b[0;34m=\u001b[0m \u001b[0msocket\u001b[0m\u001b[0;34m.\u001b[0m\u001b[0msocket\u001b[0m\u001b[0;34m(\u001b[0m\u001b[0msocket\u001b[0m\u001b[0;34m.\u001b[0m\u001b[0mAF_INET\u001b[0m\u001b[0;34m,\u001b[0m \u001b[0msocket\u001b[0m\u001b[0;34m.\u001b[0m\u001b[0mSOCK_STREAM\u001b[0m\u001b[0;34m)\u001b[0m\u001b[0;34m\u001b[0m\u001b[0;34m\u001b[0m\u001b[0m\n\u001b[0;32m----> 2\u001b[0;31m \u001b[0mserver_address\u001b[0m \u001b[0;34m=\u001b[0m \u001b[0;34m(\u001b[0m\u001b[0;34m\"localhost\"\u001b[0m\u001b[0;34m,\u001b[0m \u001b[0mports\u001b[0m\u001b[0;34m[\u001b[0m\u001b[0mprocNo\u001b[0m\u001b[0;34m]\u001b[0m\u001b[0;34m)\u001b[0m\u001b[0;34m\u001b[0m\u001b[0;34m\u001b[0m\u001b[0m\n\u001b[0m\u001b[1;32m      3\u001b[0m \u001b[0msock\u001b[0m\u001b[0;34m.\u001b[0m\u001b[0mbind\u001b[0m\u001b[0;34m(\u001b[0m\u001b[0mserver_address\u001b[0m\u001b[0;34m)\u001b[0m\u001b[0;34m\u001b[0m\u001b[0;34m\u001b[0m\u001b[0m\n\u001b[1;32m      4\u001b[0m \u001b[0msock\u001b[0m\u001b[0;34m.\u001b[0m\u001b[0mlisten\u001b[0m\u001b[0;34m(\u001b[0m\u001b[0;34m)\u001b[0m\u001b[0;34m\u001b[0m\u001b[0;34m\u001b[0m\u001b[0m\n\u001b[1;32m      5\u001b[0m \u001b[0;34m\u001b[0m\u001b[0m\n",
      "\u001b[0;31mKeyError\u001b[0m: 0"
     ]
    }
   ],
   "source": [
    "sock = socket.socket(socket.AF_INET, socket.SOCK_STREAM)\n",
    "server_address = (\"localhost\", ports[procNo])\n",
    "sock.bind(server_address)\n",
    "sock.listen()\n",
    "\n",
    "threading.Thread(target=acceptAndSet, args = (sock,))\n",
    "\n",
    "while True:\n",
    "    print(\"Please choose your options:\")\n",
    "    print(\"1. Money Transfer\")\n",
    "    print(\"2. Fail link\")\n",
    "    print(\"3. Fix link\")\n",
    "    print(\"4. Fail this process\")\n",
    "    print(\"5. Print block chain\")\n",
    "    print(\"6. Print balance\")\n",
    "    print(\"7. Print queue\")\n",
    "    x = getInt()\n",
    "    if x not in [1,2,3,4,5,6,7]:\n",
    "        print(\"Not an valid option!\")\n",
    "        continue\n",
    "        \n",
    "    if x == 1:\n",
    "        moneyTransfer()\n",
    "    elif x == 2:\n",
    "        failLink()\n",
    "    elif x == 3:\n",
    "        fixLink()\n",
    "    elif x == 4:\n",
    "        failProcess()\n",
    "    elif x == 5:\n",
    "        printChain()\n",
    "    elif x == 6:\n",
    "        printBalance()\n",
    "    elif x == 7:\n",
    "        printQueue()\n"
   ]
  },
  {
   "cell_type": "code",
   "execution_count": null,
   "metadata": {},
   "outputs": [],
   "source": []
  }
 ],
 "metadata": {
  "kernelspec": {
   "display_name": "Python 3",
   "language": "python",
   "name": "python3"
  },
  "language_info": {
   "codemirror_mode": {
    "name": "ipython",
    "version": 3
   },
   "file_extension": ".py",
   "mimetype": "text/x-python",
   "name": "python",
   "nbconvert_exporter": "python",
   "pygments_lexer": "ipython3",
   "version": "3.7.4"
  }
 },
 "nbformat": 4,
 "nbformat_minor": 2
}
