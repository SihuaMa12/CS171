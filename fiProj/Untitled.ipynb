{
 "cells": [
  {
   "cell_type": "code",
   "execution_count": 13,
   "metadata": {},
   "outputs": [],
   "source": [
    "import socket\n",
    "import hashlib\n",
    "import random\n",
    "import string\n",
    "from struct import pack, unpack"
   ]
  },
  {
   "cell_type": "code",
   "execution_count": 14,
   "metadata": {},
   "outputs": [],
   "source": [
    "def randStr():\n",
    "    return ''.join(random.choice(string.ascii_uppercase + string.digits) for _ in range(16))"
   ]
  },
  {
   "cell_type": "code",
   "execution_count": 19,
   "metadata": {},
   "outputs": [],
   "source": [
    "def findNonce(inp):\n",
    "    while True:\n",
    "        st = randStr()\n",
    "        te = inp + st\n",
    "        te = te.encode(\"utf-8\")\n",
    "        ans = hashlib.sha256(te).hexdigest()\n",
    "        if ans[-1] in ['0', '1', '2', '3', '4']:\n",
    "            return st"
   ]
  },
  {
   "cell_type": "code",
   "execution_count": 22,
   "metadata": {},
   "outputs": [
    {
     "data": {
      "text/plain": [
       "[False, False, False, False, False]"
      ]
     },
     "execution_count": 22,
     "metadata": {},
     "output_type": "execute_result"
    }
   ],
   "source": [
    "# print(\"This is stub\")\n",
    "procNo = 0\n",
    "balance = 100\n",
    "# tes = hashlib.sha256(\"nihao\".encode(\"utf-8\")).hexdigest()\n",
    "# print(findNonce(tes))\n",
    "ports = [10001, 10002, 10003, 10004, 10005]\n",
    "linkSuc = [False] * 5"
   ]
  },
  {
   "cell_type": "code",
   "execution_count": 15,
   "metadata": {},
   "outputs": [
    {
     "data": {
      "text/plain": [
       "'YZFG9PLRTWJYWS80'"
      ]
     },
     "execution_count": 15,
     "metadata": {},
     "output_type": "execute_result"
    }
   ],
   "source": [
    "# randStr()"
   ]
  },
  {
   "cell_type": "code",
   "execution_count": null,
   "metadata": {},
   "outputs": [],
   "source": []
  }
 ],
 "metadata": {
  "kernelspec": {
   "display_name": "Python 3",
   "language": "python",
   "name": "python3"
  },
  "language_info": {
   "codemirror_mode": {
    "name": "ipython",
    "version": 3
   },
   "file_extension": ".py",
   "mimetype": "text/x-python",
   "name": "python",
   "nbconvert_exporter": "python",
   "pygments_lexer": "ipython3",
   "version": "3.7.4"
  }
 },
 "nbformat": 4,
 "nbformat_minor": 2
}
