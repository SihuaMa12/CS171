{
 "cells": [
  {
   "cell_type": "code",
   "execution_count": 4,
   "metadata": {},
   "outputs": [],
   "source": [
    "import socket\n",
    "import hashlib\n",
    "import random\n",
    "import string\n",
    "import paxos_pb2\n",
    "import threading\n",
    "import pickle\n",
    "import socket\n",
    "import time\n",
    "import sys\n",
    "from os import path\n",
    "from struct import pack, unpack\n",
    "\n",
    "# I decide to divide sending and receiving into two threads, and with receving wake up the sending thread when \n",
    "# received proper message"
   ]
  },
  {
   "cell_type": "code",
   "execution_count": 56,
   "metadata": {},
   "outputs": [],
   "source": [
    "class State:\n",
    "    def __init__(self):\n",
    "        self.balance = 100\n",
    "        self.blockChain = []\n",
    "        self.queue = []\n",
    "        self.ballot = paxos_pb2.BallotNum()"
   ]
  },
  {
   "cell_type": "code",
   "execution_count": 36,
   "metadata": {},
   "outputs": [],
   "source": [
    "# tested = State()\n",
    "# tested.balance = 1000\n",
    "# newla = paxos_pb2.Accept()\n",
    "# newla.type = 2\n",
    "# tested.blockChain.append(newla)"
   ]
  },
  {
   "cell_type": "code",
   "execution_count": 5,
   "metadata": {},
   "outputs": [],
   "source": [
    "tes = []\n",
    "tes.insert(2,3)\n",
    "tes.insert"
   ]
  },
  {
   "cell_type": "code",
   "execution_count": 30,
   "metadata": {},
   "outputs": [],
   "source": [
    "ted = paxos_pb2.Block()\n",
    "tr = paxos_pb2.Transaction()\n",
    "tr.src = 1\n",
    "te = paxos_pb2.Transaction()\n",
    "te.src = 2\n",
    "nwe = 1\n",
    "nww = [tr, te]\n",
    "ted.trans.extend(nww)"
   ]
  },
  {
   "cell_type": "code",
   "execution_count": 31,
   "metadata": {},
   "outputs": [
    {
     "data": {
      "text/plain": [
       "[src: 1\n",
       ", src: 2\n",
       "]"
      ]
     },
     "execution_count": 31,
     "metadata": {},
     "output_type": "execute_result"
    }
   ],
   "source": [
    "ted.trans"
   ]
  },
  {
   "cell_type": "code",
   "execution_count": 6,
   "metadata": {},
   "outputs": [
    {
     "data": {
      "text/plain": [
       "[3]"
      ]
     },
     "execution_count": 6,
     "metadata": {},
     "output_type": "execute_result"
    }
   ],
   "source": [
    "tes"
   ]
  },
  {
   "cell_type": "code",
   "execution_count": 37,
   "metadata": {},
   "outputs": [],
   "source": [
    "# with open(\"stes.txt\", \"wb\") as f:\n",
    "#     pickle.dump(tested, f)"
   ]
  },
  {
   "cell_type": "code",
   "execution_count": 38,
   "metadata": {},
   "outputs": [],
   "source": [
    "# tested.balance = 100"
   ]
  },
  {
   "cell_type": "code",
   "execution_count": 39,
   "metadata": {},
   "outputs": [],
   "source": [
    "# with open(\"stes.txt\", \"rb\") as f:\n",
    "#     tested = pickle.load(f)"
   ]
  },
  {
   "cell_type": "code",
   "execution_count": 41,
   "metadata": {},
   "outputs": [
    {
     "data": {
      "text/plain": [
       "b'\\x08\\x02'"
      ]
     },
     "execution_count": 41,
     "metadata": {},
     "output_type": "execute_result"
    }
   ],
   "source": [
    "# tested.balance\n",
    "# tested.blockChain[0].SerializePartialToString()"
   ]
  },
  {
   "cell_type": "code",
   "execution_count": 57,
   "metadata": {},
   "outputs": [],
   "source": [
    "states = State()\n",
    "if path.isfile(\"State_\" + str(procNo)):\n",
    "    with open(\"State_\" + str(procNo)) as f:\n",
    "        states = pickle.load(f)"
   ]
  },
  {
   "cell_type": "code",
   "execution_count": 58,
   "metadata": {},
   "outputs": [],
   "source": [
    "# print(\"This is stub\")\n",
    "procNo = 0\n",
    "# tes = hashlib.sha256(\"nihao\".encode(\"utf-8\")).hexdigest()\n",
    "# print(findNonce(tes))\n",
    "ports = {1: 10001, 2:10002, 3:10003, 4:10004, 5:10005}\n",
    "socks = {}\n",
    "sockLocks = {}\n",
    "responded = []\n",
    "myVal = paxos_pb2.Block()\n",
    "acceptVals = []\n",
    "promiseCount = 1\n",
    "PCLock = threading.Lock()\n",
    "countLock = threading.Lock()\n",
    "\n",
    "recvThreads = {}\n",
    "\n",
    "# failed = False\n",
    "# enough = threading.Condition()\n",
    "ballot = paxos_pb2.BallotNum()\n",
    "ballot.num = states.ballot.num\n",
    "ballot.pid = procNo\n",
    "ballot.depth = len(states.blockChain)\n",
    "\n",
    "acceptBallot = paxos_pb2.BallotNum()\n",
    "acceptCount = 0\n",
    "\n",
    "started = False\n",
    "\n",
    "mesSlot = {}\n",
    "\n",
    "recvConds = {}\n",
    "\n",
    "for i in range(5):\n",
    "    socks[i + 1] = -1\n",
    "    sockLocks[i + 1] = threading.Lock()\n",
    "    recvConds[i + 1] = threading.Condition()\n",
    "    recvThreads[i + 1] = 0\n",
    "    mesSlot[i + 1] = 0\n",
    "    \n",
    "linkSuc = [False] * 5\n",
    "activeFailed = [False] * 5\n",
    "\n",
    "promiseVal = [0] * 5\n",
    "\n",
    "acceptNum = paxos_pb2.BallotNum()\n",
    "acceptVal = paxos_pb2.Block()\n"
   ]
  },
  {
   "cell_type": "code",
   "execution_count": 52,
   "metadata": {},
   "outputs": [],
   "source": [
    "acceptSlot = []\n",
    "acceptCond = threading.Condition()\n",
    "acceptCount = 0\n",
    "promiseSlot = []\n",
    "promiseCond = threading.Condition()"
   ]
  },
  {
   "cell_type": "code",
   "execution_count": 38,
   "metadata": {},
   "outputs": [],
   "source": [
    "te = paxos_pb2.Block()\n",
    "te.hash = \"11\""
   ]
  },
  {
   "cell_type": "code",
   "execution_count": 39,
   "metadata": {},
   "outputs": [
    {
     "data": {
      "text/plain": [
       "'7703f7505e6fef8c1071cc557946239464db5b30ea6e4c717c750663fcad4fb8'"
      ]
     },
     "execution_count": 39,
     "metadata": {},
     "output_type": "execute_result"
    }
   ],
   "source": [
    "hashlib.sha256(te.SerializeToString()).hexdigest()"
   ]
  },
  {
   "cell_type": "code",
   "execution_count": null,
   "metadata": {},
   "outputs": [],
   "source": [
    "def lisAndAcc(sock):\n",
    "    global socks, ports\n",
    "    while True:\n",
    "        soc, addr = sock.accept()\n",
    "        for ite in ports:\n",
    "            if ports[ite] == addr[1]:\n",
    "                socks[ite] = soc\n",
    "                linkSuc[ite - 1] = True\n",
    "                \n",
    "                "
   ]
  },
  {
   "cell_type": "code",
   "execution_count": 7,
   "metadata": {},
   "outputs": [],
   "source": [
    "def getLocalQCount():\n",
    "    global states, procNo\n",
    "    count = 0\n",
    "    for ite in states.queue:\n",
    "        if ite[0] == procNo:\n",
    "            count += 1\n",
    "            \n",
    "    return count"
   ]
  },
  {
   "cell_type": "code",
   "execution_count": null,
   "metadata": {},
   "outputs": [],
   "source": [
    "def waitSend(sock, mes):\n",
    "    time.sleep(5)\n",
    "    helpSend(sock, mes)"
   ]
  },
  {
   "cell_type": "code",
   "execution_count": null,
   "metadata": {},
   "outputs": [],
   "source": [
    "def sendForRecovery(start, finish):\n",
    "    for i in range(start, finish):\n",
    "        "
   ]
  },
  {
   "cell_type": "code",
   "execution_count": 3,
   "metadata": {},
   "outputs": [],
   "source": [
    "def addToBlockChain(mes):\n",
    "    global states\n",
    "    states.blockChain.insert(mes.depth, mes.Block)"
   ]
  },
  {
   "cell_type": "code",
   "execution_count": null,
   "metadata": {},
   "outputs": [],
   "source": [
    "def recvAndSet(sock, i):\n",
    "    global mesSlot, recvConds, ballot, myVal, procNo, acceptNum, acceptVal, states\n",
    "    global activeFailed, linkSuc\n",
    "    global queue\n",
    "    global acceptBallot\n",
    "    global acceptSlot, acceptCond\n",
    "    global promiseSlot, promiseCond\n",
    "    while True:\n",
    "        le = safeRec(sock, 2)\n",
    "        le = unpack(\">H\", le)[0]\n",
    "        mes = safeRec(sock, le)\n",
    "        newone = paxos_pb2.Prepare()\n",
    "        newone.ParseFromString(mes)\n",
    "        # getting Prepare, set the ballot number if greater and return promise\n",
    "        if newone.type == 1:\n",
    "            if (newone.ballot.num > ballot.num or (newone.ballot.num == ballot.num and newone.ballot.pid >= procNo)) and newone.ballot.depth >= ballot.depth:\n",
    "                ballot.num = newone.ballot.num\n",
    "                if newone.ballot.depth > ballot.depth:\n",
    "                    \n",
    "                    sendForRecovery(ballot.depth, newone.ballot.depth)\n",
    "                    ballot.depth = newone.ballot.depth\n",
    "                \n",
    "                returned = paxos_pb2.Promise()\n",
    "                returned.type = 3\n",
    "                returned.ballot.CopyFrom(newone.ballot)\n",
    "                returned.acceptNum.CopyFrom(acceptNum)\n",
    "                returned.acceptVal.CopyFrom(acceptVal)\n",
    "                threading.Thread(target = waitSend, args = (sock, returned,)).start()\n",
    "            \n",
    "            \n",
    "            continue\n",
    "            \n",
    "        elif newone.type == 3:\n",
    "            if len(primiseSlot) <= 2:\n",
    "                newone = paxos_pb2.Promise()\n",
    "                newone.ParseFromString(mes)\n",
    "                promiseSlot.append((i, newone))\n",
    "                if len(promiseSlot) == 2:\n",
    "                    promiseCond.acquire()\n",
    "                    promiseCond.notifyAll()\n",
    "                    primiseCond.release()\n",
    "            \n",
    "            \n",
    "        elif newone.type == 4:\n",
    "            newone = paxos_pb2.Accept()\n",
    "            newone.ParseFromString(mes)\n",
    "            if (newone.myVal.num > ballot.num or (newone.myVal.num == ballot.num and newone.myVal.pid > ballot.pid) and newone.myVal.depth >= ballot.depth:\n",
    "                insi = newone.myVal.trans\n",
    "                states.queue.append([insi.src, insi.rcvr, insi.amt])\n",
    "                then = paxos_pb2.Accepted()\n",
    "                then.type = 5\n",
    "                acceptNum = newone.ballot\n",
    "                acceptVal = newone.myVal\n",
    "                then.ballot.CopyFrom(newone.ballot)\n",
    "                then.acceptVal.CopyFrom(newone.myVal)\n",
    "                \n",
    "                threading.Thread(target = waitSend, args = (sock, then, )).start()\n",
    "                \n",
    "            continue\n",
    "                \n",
    "        elif newone.type == 5:\n",
    "            if len(acceptSlot) < 2:\n",
    "\n",
    "                newone = paxos_pb2.Accepted()\n",
    "                newone.ParseFromString(mes)\n",
    "                if newone.ballot == acceptBallot:\n",
    "                    acceptSlot.append(newone)\n",
    "            \n",
    "            elif len(acceptSlot) == 2:\n",
    "                acceptCond.acquire()\n",
    "                acceptCond.notifyAll()\n",
    "                acceptCond.release()\n",
    "                \n",
    "            # acceptSlot to be cleared\n",
    "                \n",
    "        \n",
    "        elif newone.type == 6:\n",
    "            newone = paxos_pb2.Decide()\n",
    "            newone.ParseFromString(mes)\n",
    "            \n",
    "            \n",
    "            \n",
    "        elif newone.type == 7:\n",
    "            newone = paxos_pb2.Recover()\n",
    "            newone.ParseFromString(mes)\n",
    "            if newone.depth < ballot.depth():\n",
    "                then = paxos_pb2.RepRecover()\n",
    "                then.type = 8\n",
    "                then.depth = newone.depth\n",
    "                then.block.CopyFrom(states.blockChain[])\n",
    "            \n",
    "            \n",
    "        elif newone.type == 8:\n",
    "            newone = paxos_pb2.RepRecover()\n",
    "            newone.ParseFromString(mes)\n",
    "            addToBlockChain(newone)\n",
    "            continue\n",
    "            "
   ]
  },
  {
   "cell_type": "code",
   "execution_count": null,
   "metadata": {},
   "outputs": [],
   "source": [
    "def clearQueue():\n",
    "    global states"
   ]
  },
  {
   "cell_type": "code",
   "execution_count": null,
   "metadata": {},
   "outputs": [],
   "source": [
    "def failLink():\n",
    "    global linkSuc, procNo\n",
    "    print(\"Please enter the pid of the link to be failed\")\n",
    "    x = getInt()\n",
    "    if x not in [1,2,3,4,5] or x == procNo:\n",
    "        print(\"Invalid pid\")\n",
    "        return\n",
    "    \n",
    "    linkSuc[x - 1] = False"
   ]
  },
  {
   "cell_type": "code",
   "execution_count": null,
   "metadata": {},
   "outputs": [],
   "source": [
    "def fixLink():\n",
    "    global linkSuc\n",
    "    print(\"Please enter the pid of the link to be fixed\")\n",
    "    x = getInt()\n",
    "    if x not in [1,2,3,4,5]:\n",
    "        print(\"Invalid pid\")\n",
    "        return\n",
    "    \n",
    "    linkSuc[x-1] = True"
   ]
  },
  {
   "cell_type": "code",
   "execution_count": 11,
   "metadata": {},
   "outputs": [],
   "source": [
    "def getInt():\n",
    "    while True:\n",
    "        x = input()\n",
    "        try:\n",
    "            x = int(x)\n",
    "        except ValueError:\n",
    "            print(\"Not an integer\")\n",
    "            continue\n",
    "        \n",
    "        return x"
   ]
  },
  {
   "cell_type": "code",
   "execution_count": 14,
   "metadata": {},
   "outputs": [],
   "source": [
    "def helpSend(sock, ite):\n",
    "    it = ite.SerializeToString()\n",
    "    le = len(it)\n",
    "    le = pack(\">H\", le)\n",
    "    sock.send(le + it)"
   ]
  },
  {
   "cell_type": "code",
   "execution_count": null,
   "metadata": {},
   "outputs": [],
   "source": [
    "def failProcess():\n",
    "    global procNo, states\n",
    "    with open(\"State_\" + str(procNo), \"wb\") as f:\n",
    "        pickle.dump(states, f)\n",
    "        \n",
    "    print(\"Failing\")\n",
    "    sys.exit()"
   ]
  },
  {
   "cell_type": "code",
   "execution_count": null,
   "metadata": {},
   "outputs": [],
   "source": [
    "def printChain():\n",
    "    global states\n",
    "    print(states.blockChain)"
   ]
  },
  {
   "cell_type": "code",
   "execution_count": null,
   "metadata": {},
   "outputs": [],
   "source": [
    "def printBalance():\n",
    "    global states\n",
    "    print(states.balance)"
   ]
  },
  {
   "cell_type": "code",
   "execution_count": null,
   "metadata": {},
   "outputs": [],
   "source": [
    "def printQueue():\n",
    "    global states\n",
    "    print(states.queue)"
   ]
  },
  {
   "cell_type": "code",
   "execution_count": null,
   "metadata": {},
   "outputs": [],
   "source": [
    "def comOther()"
   ]
  },
  {
   "cell_type": "code",
   "execution_count": null,
   "metadata": {},
   "outputs": [],
   "source": [
    "def conAndListen(sock, port):\n",
    "    sock.connect((\"localhost\", port))\n",
    "    server_address = (\"localhost\", ports[procNo])"
   ]
  },
  {
   "cell_type": "code",
   "execution_count": 6,
   "metadata": {
    "scrolled": true
   },
   "outputs": [
    {
     "ename": "SyntaxError",
     "evalue": "invalid syntax (<ipython-input-6-15029032fdb1>, line 2)",
     "output_type": "error",
     "traceback": [
      "\u001b[0;36m  File \u001b[0;32m\"<ipython-input-6-15029032fdb1>\"\u001b[0;36m, line \u001b[0;32m2\u001b[0m\n\u001b[0;31m    sock  return ''.join(random.choice(string.ascii_uppercase + string.digits) for _ in range(16))\u001b[0m\n\u001b[0m               ^\u001b[0m\n\u001b[0;31mSyntaxError\u001b[0m\u001b[0;31m:\u001b[0m invalid syntax\n"
     ]
    }
   ],
   "source": [
    "def randStr():\n",
    "    return ''.join(random.choice(string.ascii_uppercase + string.digits) for _ in range(16))"
   ]
  },
  {
   "cell_type": "code",
   "execution_count": 3,
   "metadata": {},
   "outputs": [],
   "source": [
    "def findNonce(inp):\n",
    "    while True:\n",
    "        st = randStr()\n",
    "        te = inp + st\n",
    "        te = te.encode(\"utf-8\")\n",
    "        ans = hashlib.sha256(te).hexdigest()\n",
    "        if ans[-1] in ['0', '1', '2', '3', '4']:\n",
    "            return st"
   ]
  },
  {
   "cell_type": "code",
   "execution_count": 44,
   "metadata": {},
   "outputs": [
    {
     "data": {
      "text/plain": [
       "'7a53cc5deb60512f3dacacc7695dd5072077c6f4984dbedbff76e27092393b1c'"
      ]
     },
     "execution_count": 44,
     "metadata": {},
     "output_type": "execute_result"
    }
   ],
   "source": [
    "# te = paxos_pb2.Block()\n",
    "# te2 = paxos_pb2.Transaction()\n",
    "# te2.src = 2\n",
    "# te.trans.append(te2)\n",
    "# transHash(te.trans)"
   ]
  },
  {
   "cell_type": "code",
   "execution_count": 46,
   "metadata": {},
   "outputs": [
    {
     "data": {
      "text/plain": [
       "b'2'"
      ]
     },
     "execution_count": 46,
     "metadata": {},
     "output_type": "execute_result"
    }
   ],
   "source": [
    "# b2 = \"2\"\n",
    "# b2 = b2.encode()\n",
    "# b2"
   ]
  },
  {
   "cell_type": "code",
   "execution_count": 48,
   "metadata": {},
   "outputs": [],
   "source": []
  },
  {
   "cell_type": "code",
   "execution_count": 49,
   "metadata": {},
   "outputs": [
    {
     "data": {
      "text/plain": [
       "nonce: \"2\""
      ]
     },
     "execution_count": 49,
     "metadata": {},
     "output_type": "execute_result"
    }
   ],
   "source": []
  },
  {
   "cell_type": "code",
   "execution_count": 45,
   "metadata": {},
   "outputs": [],
   "source": [
    "def transStr(trans):\n",
    "    st = b''\n",
    "    for ite in trans:\n",
    "        st = st + ite.SerializeToString()\n",
    "        \n",
    "    return st"
   ]
  },
  {
   "cell_type": "code",
   "execution_count": null,
   "metadata": {},
   "outputs": [],
   "source": [
    "def "
   ]
  },
  {
   "cell_type": "code",
   "execution_count": 51,
   "metadata": {},
   "outputs": [],
   "source": [
    "def setNonce(block):\n",
    "    \n",
    "    while True:\n",
    "        block.nonce = randStr()\n",
    "        res = hashlib.sha256(block.SerializeToString()).hexdigest()\n",
    "        if res[-1] in ['0', '1', '2', '3', '4']:\n",
    "            break\n",
    "#     nonc = findNonce(block.trans, block.hash)\n",
    "#     block.nonce = nonc"
   ]
  },
  {
   "cell_type": "code",
   "execution_count": 47,
   "metadata": {},
   "outputs": [],
   "source": [
    "def findNonce(trans, has):\n",
    "    while True:\n",
    "        nonc = randStr()\n",
    "        te = transStr(trans) + nonc + has.encode()\n",
    "        ans = hashlib.sha256(te).hexdigest()\n",
    "        if ans[-1] in ['0', '1', '2', '3', '4']:\n",
    "            return nonc"
   ]
  },
  {
   "cell_type": "code",
   "execution_count": null,
   "metadata": {},
   "outputs": [],
   "source": [
    "def incrementCount():\n",
    "    countLock.acquire()\n",
    "    count += 1\n",
    "    countLock.release()"
   ]
  },
  {
   "cell_type": "code",
   "execution_count": 7,
   "metadata": {},
   "outputs": [],
   "source": [
    "def timedRec(sock, n, ti):\n",
    "    mes = []\n",
    "    count = n\n",
    "    now = time.time()\n",
    "    \n",
    "    try:\n",
    "\n",
    "        while count > 0:\n",
    "            a = sock.recv(count)\n",
    "            mes.append(mes)\n",
    "            le = len(a)\n",
    "            count -= le\n",
    "\n",
    "            if time.time() - now > ti:\n",
    "                return False\n",
    "            \n",
    "    except:\n",
    "        print(\"Connection closed\")\n",
    "        \n",
    "        return False\n",
    "        \n",
    "    return b''.join(mes)"
   ]
  },
  {
   "cell_type": "code",
   "execution_count": null,
   "metadata": {},
   "outputs": [],
   "source": [
    "def safeRec(sock, n):\n",
    "    mes = []\n",
    "    count = n\n",
    "    while count > 0:\n",
    "        a = sock.recv(count)\n",
    "        mes.append(mes)\n",
    "        le = len(a)\n",
    "        count -= le\n",
    "        \n",
    "    return b''.join(mes)"
   ]
  },
  {
   "cell_type": "code",
   "execution_count": null,
   "metadata": {},
   "outputs": [],
   "source": [
    "def sendDecide(sock, decide):\n",
    "    "
   ]
  },
  {
   "cell_type": "code",
   "execution_count": null,
   "metadata": {},
   "outputs": [],
   "source": [
    "def recvPromise(sock):\n",
    "    global promiseCount\n",
    "    le = timedRec()"
   ]
  },
  {
   "cell_type": "code",
   "execution_count": null,
   "metadata": {},
   "outputs": [],
   "source": [
    "def sendPrepare(sock, sno):\n",
    "    global ports, procNo, states, promiseCount, responded\n",
    "    pMes = paxos_pb2.Prepare()\n",
    "    pMes.type = 1\n",
    "    pMes.ballot.depth = len(states.blockChain)\n",
    "    pMes.ballot.pid = procNo\n",
    "    \n",
    "    waitSend(sock, pMes)\n"
   ]
  },
  {
   "cell_type": "code",
   "execution_count": null,
   "metadata": {},
   "outputs": [],
   "source": [
    "def getPromise(sock, sno):\n",
    "    global promiseCount, responded, PCLock\n",
    "    res = timedRec(sock, 2, 7)\n",
    "    if res == False:\n",
    "        return False\n",
    "    le = unpack(\">H\", res)[0]\n",
    "    res = safeRec(sock, le)\n",
    "    \n",
    "    \n",
    "    \n",
    "    PCLock.acquire()\n",
    "    promiseCount += 1\n",
    "    PCLock.release()\n",
    "    \n",
    "    if len(responded) < 3:\n",
    "        reponded.append(sno)\n",
    "    \n",
    "    return True"
   ]
  },
  {
   "cell_type": "code",
   "execution_count": null,
   "metadata": {},
   "outputs": [],
   "source": [
    "def askForPromise(i):\n",
    "    global ports, linkSuc, socks\n",
    "    if linkSuc[i] == False:\n",
    "        sock = socket.socket(socket.AF_INET, socket.SOCK_STREAM)\n",
    "        server_address = (\"localhost\", ports[i])\n",
    "        sock.setsockopt(socket.SOL_SOCKET, socket.SO_REUSEADDR, 1)\n",
    "        sock.bind(server_address)\n",
    "        try:\n",
    "            sock.connect(server_address)\n",
    "        except socket.error, msg:\n",
    "            print(\"Connection failed for server \" + str(i))\n",
    "            return\n",
    "        \n",
    "        socks[i] = sock\n",
    "        linkSuc[i-1] = True\n",
    "        \n",
    "    sendPrepare(socks[i], i)\n",
    "    getPromise(socks[i], i)\n",
    "    \n",
    "#     t = threading.Thread(target = sendPrepare, args = (socks[i], i, ))\n",
    "#     t.start()\n",
    "#     t.join()\n",
    "    \n",
    "    \n",
    "    \n",
    "    \n",
    "    "
   ]
  },
  {
   "cell_type": "code",
   "execution_count": null,
   "metadata": {},
   "outputs": [],
   "source": [
    "# I still need to decide if the returned promise indicate that we lagged behind in the process\n",
    "def ElectAsLeader():\n",
    "    global procNo, enough, promiseCount, activeFailed, responded\n",
    "    responded.append(procNo)\n",
    "    \n",
    "    \n",
    "    quq = []\n",
    "    ballot.num += 1\n",
    "    for i in [1,2,3,4,5]:\n",
    "        if i != procNo and activeFailed[i] == False:\n",
    "            t = threading.Thread(target = askForPromise, args = (i,))\n",
    "            t.start()\n",
    "            quq.append(t)\n",
    "    for ite in quq:\n",
    "        ite.join()\n",
    "    \n",
    "    \n",
    "    if promiseCount < 3:\n",
    "        promiseCount = 1\n",
    "        print(\"Getting promise failed, not enough servers\")\n",
    "        return False\n",
    "    \n",
    "    promiseCount = 1\n",
    "    \n",
    "    return True\n",
    "    \n",
    "        "
   ]
  },
  {
   "cell_type": "code",
   "execution_count": null,
   "metadata": {},
   "outputs": [],
   "source": [
    "def sendAccept(sock, i):\n",
    "    global ballot, states\n",
    "    global acceptBallot\n",
    "    newone = paxos_pb2.Accept()\n",
    "    newone.type = 4\n",
    "    newone.ballot.CopyFrom(ballot)\n",
    "    newone.myVal.trans.extend(states.queue)\n",
    "    if len(states.blockChain) == 0:\n",
    "        newone.myVal.hash = \"\"\n",
    "    else:\n",
    "        newone.myVal.hash = states.blockChain[-1].hash\n",
    "        \n",
    "    setNonce(newone.myVal)\n",
    "    \n",
    "    acceptBallot.CopyFrom(newone.ballot)\n",
    "    \n",
    "    time.sleep(5)\n",
    "    \n",
    "    helpSend(sock, newone)\n",
    "    \n",
    "    \n",
    "    "
   ]
  },
  {
   "cell_type": "code",
   "execution_count": null,
   "metadata": {},
   "outputs": [],
   "source": [
    "def transPrepare():\n",
    "    global procNo， responded, states, socks\n",
    "#     toSent = paxos_pb2.Block()\n",
    "#     toSent.trans.extend(states.queue)\n",
    "    \n",
    "#     if len(states.blockChain) == 0:\n",
    "#         toSent.hash = \"\"\n",
    "#     else:\n",
    "#         toSent.hash = \n",
    "    \n",
    "    for ite in responded:\n",
    "        if ite != procNo:\n",
    "            t = threading.Thread(target = sendAccept, args = (socks[i], i, ))\n",
    "            t.join()\n",
    "            \n",
    "            \n",
    "    expected = 4\n",
    "    \n",
    "    \n",
    "    "
   ]
  },
  {
   "cell_type": "code",
   "execution_count": 32,
   "metadata": {},
   "outputs": [],
   "source": [
    "def randomVal():\n",
    "    return random.uniform(5,8)"
   ]
  },
  {
   "cell_type": "code",
   "execution_count": null,
   "metadata": {},
   "outputs": [],
   "source": [
    "def oneRound():\n",
    "    global states, procNo\n",
    "    time.sleep(randomVal())\n",
    "    res = ElectAsLeader()\n",
    "    if res == True:\n",
    "        res = transPrepare()\n",
    "        if res == True:\n",
    "            sendDecide()\n",
    "        else:\n",
    "            print(\"Accepting phase failed\")\n",
    "            return False\n",
    "    else:\n",
    "        print(\"Failed to become leader\")\n",
    "        return False\n",
    "    \n",
    "    nwBlo = paxos_pb2.Block()\n",
    "    trans = []\n",
    "    for ite in states.queue:\n",
    "        \n",
    "        if ite[0] != procNo\n",
    "            nw = paxos_pb2.Transaction()\n",
    "            nw.src = ite[0]\n",
    "            nw.rcvr = ite[1]\n",
    "            nw.amt = ite[2]\n",
    "            trans.append(nw)\n",
    "            \n",
    "    nwBlo.trans.extend(trans)\n",
    "    \n",
    "    \n",
    "    return True"
   ]
  },
  {
   "cell_type": "code",
   "execution_count": null,
   "metadata": {},
   "outputs": [],
   "source": [
    "def moneyTransfer():\n",
    "    global linkSuc, procNo, states, started\n",
    "    print(\"Please specify the destination pid:\")\n",
    "    x = getInt()\n",
    "    if x not in [1,2,3,4,5] or x == procNo:\n",
    "        print(\"Not a valid pid\")\n",
    "        return False\n",
    "    \n",
    "    print(\"Please specify the amount to transfer:\")\n",
    "    y = getInt()\n",
    "    if y < 0:\n",
    "        print(\"Amount cannot be negative\")\n",
    "        return False\n",
    "    elif y > balance:\n",
    "        print(\"Balance not enough\")\n",
    "        return False\n",
    "    \n",
    "    states.queue.append([procNo, x, y])\n",
    "    if not started:\n",
    "        threading.Thread(target = oneRound).start()\n",
    "    "
   ]
  },
  {
   "cell_type": "code",
   "execution_count": 5,
   "metadata": {},
   "outputs": [],
   "source": [
    "def startTransfer():\n",
    "    moneyTransfer()"
   ]
  },
  {
   "cell_type": "code",
   "execution_count": 10,
   "metadata": {},
   "outputs": [
    {
     "ename": "KeyError",
     "evalue": "0",
     "output_type": "error",
     "traceback": [
      "\u001b[0;31m---------------------------------------------------------------------------\u001b[0m",
      "\u001b[0;31mKeyError\u001b[0m                                  Traceback (most recent call last)",
      "\u001b[0;32m<ipython-input-10-942ebb76190a>\u001b[0m in \u001b[0;36m<module>\u001b[0;34m\u001b[0m\n\u001b[1;32m      1\u001b[0m \u001b[0msock\u001b[0m \u001b[0;34m=\u001b[0m \u001b[0msocket\u001b[0m\u001b[0;34m.\u001b[0m\u001b[0msocket\u001b[0m\u001b[0;34m(\u001b[0m\u001b[0msocket\u001b[0m\u001b[0;34m.\u001b[0m\u001b[0mAF_INET\u001b[0m\u001b[0;34m,\u001b[0m \u001b[0msocket\u001b[0m\u001b[0;34m.\u001b[0m\u001b[0mSOCK_STREAM\u001b[0m\u001b[0;34m)\u001b[0m\u001b[0;34m\u001b[0m\u001b[0;34m\u001b[0m\u001b[0m\n\u001b[0;32m----> 2\u001b[0;31m \u001b[0mserver_address\u001b[0m \u001b[0;34m=\u001b[0m \u001b[0;34m(\u001b[0m\u001b[0;34m\"localhost\"\u001b[0m\u001b[0;34m,\u001b[0m \u001b[0mports\u001b[0m\u001b[0;34m[\u001b[0m\u001b[0mprocNo\u001b[0m\u001b[0;34m]\u001b[0m\u001b[0;34m)\u001b[0m\u001b[0;34m\u001b[0m\u001b[0;34m\u001b[0m\u001b[0m\n\u001b[0m\u001b[1;32m      3\u001b[0m \u001b[0msock\u001b[0m\u001b[0;34m.\u001b[0m\u001b[0mbind\u001b[0m\u001b[0;34m(\u001b[0m\u001b[0mserver_address\u001b[0m\u001b[0;34m)\u001b[0m\u001b[0;34m\u001b[0m\u001b[0;34m\u001b[0m\u001b[0m\n\u001b[1;32m      4\u001b[0m \u001b[0msock\u001b[0m\u001b[0;34m.\u001b[0m\u001b[0mlisten\u001b[0m\u001b[0;34m(\u001b[0m\u001b[0;34m)\u001b[0m\u001b[0;34m\u001b[0m\u001b[0;34m\u001b[0m\u001b[0m\n\u001b[1;32m      5\u001b[0m \u001b[0;34m\u001b[0m\u001b[0m\n",
      "\u001b[0;31mKeyError\u001b[0m: 0"
     ]
    }
   ],
   "source": [
    "sock = socket.socket(socket.AF_INET, socket.SOCK_STREAM)\n",
    "server_address = (\"localhost\", ports[procNo])\n",
    "sock.bind(server_address)\n",
    "sock.listen()\n",
    "\n",
    "threading.Thread(target=lisAndAcc, args = (sock,))\n",
    "\n",
    "while True:\n",
    "    print(\"Please choose your options:\")\n",
    "    print(\"1. Money Transfer\")\n",
    "    print(\"2. Fail link\")\n",
    "    print(\"3. Fix link\")\n",
    "    print(\"4. Fail this process\")\n",
    "    print(\"5. Print block chain\")\n",
    "    print(\"6. Print balance\")\n",
    "    print(\"7. Print queue\")\n",
    "    x = getInt()\n",
    "    if x not in [1,2,3,4,5,6,7]:\n",
    "        print(\"Not an valid option!\")\n",
    "        continue\n",
    "        \n",
    "    if x == 1:\n",
    "        moneyTransfer()\n",
    "    elif x == 2:\n",
    "        failLink()\n",
    "    elif x == 3:\n",
    "        fixLink()\n",
    "    elif x == 4:\n",
    "        failProcess()\n",
    "    elif x == 5:\n",
    "        printChain()\n",
    "    elif x == 6:\n",
    "        printBalance()\n",
    "    elif x == 7:\n",
    "        printQueue()\n"
   ]
  },
  {
   "cell_type": "code",
   "execution_count": null,
   "metadata": {},
   "outputs": [],
   "source": []
  }
 ],
 "metadata": {
  "kernelspec": {
   "display_name": "Python 3",
   "language": "python",
   "name": "python3"
  },
  "language_info": {
   "codemirror_mode": {
    "name": "ipython",
    "version": 3
   },
   "file_extension": ".py",
   "mimetype": "text/x-python",
   "name": "python",
   "nbconvert_exporter": "python",
   "pygments_lexer": "ipython3",
   "version": "3.7.4"
  }
 },
 "nbformat": 4,
 "nbformat_minor": 2
}
