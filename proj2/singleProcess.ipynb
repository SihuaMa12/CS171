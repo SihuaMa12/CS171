{
 "cells": [
  {
   "cell_type": "code",
   "execution_count": 2,
   "metadata": {},
   "outputs": [],
   "source": [
    "import socket\n",
    "import sys\n",
    "import time\n",
    "import threading\n",
    "import concurrent.futures\n",
    "import proj2_pb2 as proj2\n",
    "import struct \n",
    "from struct import pack, unpack"
   ]
  },
  {
   "cell_type": "code",
   "execution_count": 10,
   "metadata": {},
   "outputs": [],
   "source": [
    "balance = 10\n",
    "quela = []\n",
    "addLock = threading.Lock()\n",
    "popLock = threading.Lock()\n",
    "blockQueue = []\n",
    "blockLock = threading.Lock()\n",
    "localID = 0\n",
    "localQueue = {}\n",
    "localLock = threading.Lock()\n",
    "incrementLock = threading.Lock()"
   ]
  },
  {
   "cell_type": "code",
   "execution_count": 4,
   "metadata": {},
   "outputs": [],
   "source": [
    "def byteHelp(mes):\n",
    "    fir = mes.SerializeToString()\n",
    "    a = pack(\">H\", len(fir))\n",
    "    return a+fir"
   ]
  },
  {
   "cell_type": "code",
   "execution_count": null,
   "metadata": {},
   "outputs": [],
   "source": [
    "# def waitOnRep(sock):\n",
    "#     global incrementLock\n",
    "\n",
    "#     re = safeRec(sock, 2)\n",
    "#     le = unpack(re)[0]\n",
    "#     re = safeRec(sock, le)\n",
    "#     then = proj2.Reply()\n",
    "#     then.ParseFromString(re)\n",
    "#     if then.type == 2:\n",
    "#         for it in quela:\n",
    "#             if then.id == it.id and then.dest == it.ori:\n",
    "#                 incrementLock.acquire()\n",
    "#                 it.count += 1\n",
    "#                 incrementLock.release()\n",
    "                \n",
    "#     return"
   ]
  },
  {
   "cell_type": "code",
   "execution_count": null,
   "metadata": {},
   "outputs": [],
   "source": [
    "def recvEvent(sock):\n",
    "    global x\n",
    "    global incrementLock\n",
    "    global popLock\n",
    "    le = sock.recv(2)\n",
    "    le = unpack(le)[0]\n",
    "    re = sock.recv(le)\n",
    "    more = proj2.Request()\n",
    "    more.ParseFromString(re)\n",
    "    if more.type == 1:\n",
    "        priorityAdd([more.ori, more.clock, more.id, 0])\n",
    "    elif more.type == 2:\n",
    "        th = proj2.Reply()\n",
    "        th.ParseFromString(re)\n",
    "        for it in quela:\n",
    "            if it.id == th.id:\n",
    "                incrementLock.acquire()\n",
    "                it[3] += 1\n",
    "                incrementLock.release()\n",
    "                if it[3] == 2 and it == quela[0]:\n",
    "                    criticSeciton()\n",
    "                    \n",
    "    elif more.type == 4:  # release received\n",
    "        th = proj2.Release()\n",
    "        th.ParseFromString(re)\n",
    "        if th.ori == quela[0][0]:\n",
    "            popLock.acquire()\n",
    "            quela.pop(0)\n",
    "            popLock.release()\n",
    "            \n",
    "            "
   ]
  },
  {
   "cell_type": "code",
   "execution_count": 14,
   "metadata": {},
   "outputs": [
    {
     "data": {
      "text/plain": [
       "False"
      ]
     },
     "execution_count": 14,
     "metadata": {},
     "output_type": "execute_result"
    }
   ],
   "source": []
  },
  {
   "cell_type": "code",
   "execution_count": 11,
   "metadata": {},
   "outputs": [],
   "source": [
    "def safeRec(sock, n):\n",
    "    lef = n\n",
    "    res = []\n",
    "    closed = False\n",
    "    while lef > 0:\n",
    "        then = sock.recv(lef)\n",
    "        if then == b'':\n",
    "            closed = True\n",
    "            break\n",
    "            \n",
    "            \n",
    "        lef -= len(then)\n",
    "        res.append(then)\n",
    "        \n",
    "    if not closed:\n",
    "        return b''.join(res)\n",
    "    \n",
    "    print(\"netProcess closed connection\")\n",
    "    \n",
    "    sys.exit()\n",
    "    \n",
    "    return False"
   ]
  },
  {
   "cell_type": "code",
   "execution_count": 12,
   "metadata": {},
   "outputs": [],
   "source": [
    "def addToQ(ind, it):\n",
    "    global quela\n",
    "    global addLock\n",
    "    addLock.acquire()\n",
    "    quela.insert(ind, it)\n",
    "    addLock.release()"
   ]
  },
  {
   "cell_type": "code",
   "execution_count": null,
   "metadata": {},
   "outputs": [],
   "source": [
    "def addBlock(it):\n",
    "    global blockQueue\n",
    "    global blockLock\n",
    "    blockLock.acquire()\n",
    "    blockQueue.append(it)\n",
    "    blockLock.release()"
   ]
  },
  {
   "cell_type": "code",
   "execution_count": null,
   "metadata": {},
   "outputs": [],
   "source": [
    "# I decide to have ite[0] as the server number and ite[1] as the server time\n",
    "def priorityAdd(ite):\n",
    "    global quela\n",
    "    inserted = False\n",
    "    for i in range(len(quela)):\n",
    "        if ite[1] < quela[i][1]:\n",
    "            addToQ(i, ite)\n",
    "            inserted = True\n",
    "            \n",
    "    if not inserted:\n",
    "        addToQ(len(quela), ite)\n",
    "        "
   ]
  },
  {
   "cell_type": "code",
   "execution_count": 9,
   "metadata": {},
   "outputs": [
    {
     "data": {
      "text/plain": [
       "1588460662.3736632"
      ]
     },
     "execution_count": 9,
     "metadata": {},
     "output_type": "execute_result"
    }
   ],
   "source": [
    "def comTask(sock):\n",
    "    "
   ]
  },
  {
   "cell_type": "code",
   "execution_count": null,
   "metadata": {},
   "outputs": [],
   "source": [
    "def trans(ite):\n",
    "    "
   ]
  },
  {
   "cell_type": "code",
   "execution_count": null,
   "metadata": {},
   "outputs": [],
   "source": [
    "def transferEvent(sock):\n",
    "    print(\"Please enter the server number you want to transfer balance to:\")\n",
    "    x1 = input()\n",
    "    try:\n",
    "        x1 = int(x1)\n",
    "    except ValueError:\n",
    "        print(\"Invalid type!\")\n",
    "        return\n",
    "    \n",
    "    if x1 not in (1,2,3):\n",
    "        print(\"Invalid number!\")\n",
    "        return\n",
    "    \n",
    "    print(\"Please \")"
   ]
  },
  {
   "cell_type": "code",
   "execution_count": null,
   "metadata": {},
   "outputs": [],
   "source": [
    "def mainPrompt(sock):\n",
    "    while True:\n",
    "        print(\"\"\"Please specify the event you want:\n",
    "            Press 1 to transfer\n",
    "            Pess 2 to print balance\n",
    "            Press 3 to print blockchain\"\"\")\n",
    "        x1 = input()\n",
    "        try:\n",
    "            x1 = int(x1)\n",
    "        except ValueError:\n",
    "            print(\"Wrong type, please enter again!\")\n",
    "            continue\n",
    "            \n",
    "        if x1 == 1:\n",
    "            transferEvent(sock)\n",
    "        elif x1 == 2:\n",
    "            \n",
    "            "
   ]
  },
  {
   "cell_type": "code",
   "execution_count": null,
   "metadata": {},
   "outputs": [],
   "source": [
    "le = len(sys.argv)\n",
    "if le != 2:\n",
    "    print(\"Usage: python3 singleProcess.py [process ID]\")\n",
    "    sys.exit()\n",
    "    \n",
    "try:\n",
    "    x = int(sys.argv[1])\n",
    "except ValueError:\n",
    "    print(\"Not an integer, invalid usage\")\n",
    "    sys.exit()\n",
    "\n",
    "\n",
    "sock = socket.socket(socket.AF_INET, socket.SOCK_STREAM)\n",
    "\n",
    "net_address = ('localhost', 10000)\n",
    "sock.connect(net_address)\n",
    "\n",
    "ini = more.Initi()\n",
    "ini.type = 2\n",
    "ini.ori = x\n",
    "\n",
    "sock.sendall(byteHelp(ini))\n",
    "\n",
    "# Proceed to event phase\n",
    "t = threading.Thread(target = comTask, args=(sock,))\n",
    "t.start()\n",
    "mainPrompt(sock)\n"
   ]
  }
 ],
 "metadata": {
  "kernelspec": {
   "display_name": "Python 3",
   "language": "python",
   "name": "python3"
  },
  "language_info": {
   "codemirror_mode": {
    "name": "ipython",
    "version": 3
   },
   "file_extension": ".py",
   "mimetype": "text/x-python",
   "name": "python",
   "nbconvert_exporter": "python",
   "pygments_lexer": "ipython3",
   "version": "3.7.3"
  }
 },
 "nbformat": 4,
 "nbformat_minor": 2
}
